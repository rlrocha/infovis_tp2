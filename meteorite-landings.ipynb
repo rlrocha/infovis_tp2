{
 "cells": [
  {
   "cell_type": "markdown",
   "id": "993cb624-5bfc-4d7d-a2bc-1d07ebde20ed",
   "metadata": {},
   "source": [
    "## Pré-processamento dos dados "
   ]
  },
  {
   "cell_type": "code",
   "execution_count": 1,
   "id": "bd31b41a-ff4d-48cf-a555-b38ff43cbd4a",
   "metadata": {},
   "outputs": [],
   "source": [
    "import pandas as pd"
   ]
  },
  {
   "cell_type": "code",
   "execution_count": 2,
   "id": "2253af64-18b6-4df8-8362-e7a0ca2986de",
   "metadata": {},
   "outputs": [],
   "source": [
    "df = pd.read_csv('meteorite-landings.csv')"
   ]
  },
  {
   "cell_type": "code",
   "execution_count": 3,
   "id": "06c886ef-0cc9-4eb9-861d-2e11445fdf75",
   "metadata": {},
   "outputs": [
    {
     "data": {
      "text/html": [
       "<div>\n",
       "<style scoped>\n",
       "    .dataframe tbody tr th:only-of-type {\n",
       "        vertical-align: middle;\n",
       "    }\n",
       "\n",
       "    .dataframe tbody tr th {\n",
       "        vertical-align: top;\n",
       "    }\n",
       "\n",
       "    .dataframe thead th {\n",
       "        text-align: right;\n",
       "    }\n",
       "</style>\n",
       "<table border=\"1\" class=\"dataframe\">\n",
       "  <thead>\n",
       "    <tr style=\"text-align: right;\">\n",
       "      <th></th>\n",
       "      <th>name</th>\n",
       "      <th>id</th>\n",
       "      <th>nametype</th>\n",
       "      <th>recclass</th>\n",
       "      <th>mass</th>\n",
       "      <th>fall</th>\n",
       "      <th>year</th>\n",
       "      <th>reclat</th>\n",
       "      <th>reclong</th>\n",
       "      <th>GeoLocation</th>\n",
       "    </tr>\n",
       "  </thead>\n",
       "  <tbody>\n",
       "    <tr>\n",
       "      <th>0</th>\n",
       "      <td>Aachen</td>\n",
       "      <td>1</td>\n",
       "      <td>Valid</td>\n",
       "      <td>L5</td>\n",
       "      <td>21.0</td>\n",
       "      <td>Fell</td>\n",
       "      <td>1880.0</td>\n",
       "      <td>50.77500</td>\n",
       "      <td>6.08333</td>\n",
       "      <td>(50.775000, 6.083330)</td>\n",
       "    </tr>\n",
       "    <tr>\n",
       "      <th>1</th>\n",
       "      <td>Aarhus</td>\n",
       "      <td>2</td>\n",
       "      <td>Valid</td>\n",
       "      <td>H6</td>\n",
       "      <td>720.0</td>\n",
       "      <td>Fell</td>\n",
       "      <td>1951.0</td>\n",
       "      <td>56.18333</td>\n",
       "      <td>10.23333</td>\n",
       "      <td>(56.183330, 10.233330)</td>\n",
       "    </tr>\n",
       "    <tr>\n",
       "      <th>2</th>\n",
       "      <td>Abee</td>\n",
       "      <td>6</td>\n",
       "      <td>Valid</td>\n",
       "      <td>EH4</td>\n",
       "      <td>107000.0</td>\n",
       "      <td>Fell</td>\n",
       "      <td>1952.0</td>\n",
       "      <td>54.21667</td>\n",
       "      <td>-113.00000</td>\n",
       "      <td>(54.216670, -113.000000)</td>\n",
       "    </tr>\n",
       "    <tr>\n",
       "      <th>3</th>\n",
       "      <td>Acapulco</td>\n",
       "      <td>10</td>\n",
       "      <td>Valid</td>\n",
       "      <td>Acapulcoite</td>\n",
       "      <td>1914.0</td>\n",
       "      <td>Fell</td>\n",
       "      <td>1976.0</td>\n",
       "      <td>16.88333</td>\n",
       "      <td>-99.90000</td>\n",
       "      <td>(16.883330, -99.900000)</td>\n",
       "    </tr>\n",
       "    <tr>\n",
       "      <th>4</th>\n",
       "      <td>Achiras</td>\n",
       "      <td>370</td>\n",
       "      <td>Valid</td>\n",
       "      <td>L6</td>\n",
       "      <td>780.0</td>\n",
       "      <td>Fell</td>\n",
       "      <td>1902.0</td>\n",
       "      <td>-33.16667</td>\n",
       "      <td>-64.95000</td>\n",
       "      <td>(-33.166670, -64.950000)</td>\n",
       "    </tr>\n",
       "  </tbody>\n",
       "</table>\n",
       "</div>"
      ],
      "text/plain": [
       "       name   id nametype     recclass      mass  fall    year    reclat  \\\n",
       "0    Aachen    1    Valid           L5      21.0  Fell  1880.0  50.77500   \n",
       "1    Aarhus    2    Valid           H6     720.0  Fell  1951.0  56.18333   \n",
       "2      Abee    6    Valid          EH4  107000.0  Fell  1952.0  54.21667   \n",
       "3  Acapulco   10    Valid  Acapulcoite    1914.0  Fell  1976.0  16.88333   \n",
       "4   Achiras  370    Valid           L6     780.0  Fell  1902.0 -33.16667   \n",
       "\n",
       "     reclong               GeoLocation  \n",
       "0    6.08333     (50.775000, 6.083330)  \n",
       "1   10.23333    (56.183330, 10.233330)  \n",
       "2 -113.00000  (54.216670, -113.000000)  \n",
       "3  -99.90000   (16.883330, -99.900000)  \n",
       "4  -64.95000  (-33.166670, -64.950000)  "
      ]
     },
     "execution_count": 3,
     "metadata": {},
     "output_type": "execute_result"
    }
   ],
   "source": [
    "df.head()"
   ]
  },
  {
   "cell_type": "markdown",
   "id": "036deee7-6299-42ca-a3f6-1e9b7d9eaf19",
   "metadata": {},
   "source": [
    "### Processamento do atributo \"year\""
   ]
  },
  {
   "cell_type": "code",
   "execution_count": 4,
   "id": "a1c5f457-ca4f-45de-9f4d-d9bc832f523a",
   "metadata": {},
   "outputs": [
    {
     "data": {
      "text/plain": [
       "dtype('float64')"
      ]
     },
     "execution_count": 4,
     "metadata": {},
     "output_type": "execute_result"
    }
   ],
   "source": [
    "df['year'].dtype"
   ]
  },
  {
   "cell_type": "code",
   "execution_count": 6,
   "id": "243a27fa-d651-47b8-9b4d-080fbfb79593",
   "metadata": {},
   "outputs": [],
   "source": [
    "df['year'] = df['year'].astype(pd.Int64Dtype())"
   ]
  },
  {
   "cell_type": "code",
   "execution_count": 7,
   "id": "41dbad6b-0721-4df6-8628-ed83106a92ab",
   "metadata": {},
   "outputs": [
    {
     "data": {
      "text/plain": [
       "Int64Dtype()"
      ]
     },
     "execution_count": 7,
     "metadata": {},
     "output_type": "execute_result"
    }
   ],
   "source": [
    "df['year'].dtype"
   ]
  },
  {
   "cell_type": "markdown",
   "id": "59c859cb-68af-47d8-a647-aa8706a5b030",
   "metadata": {},
   "source": [
    "Ordenando os dados pelo ano"
   ]
  },
  {
   "cell_type": "code",
   "execution_count": 9,
   "id": "2eaa7fb3-5aa1-4847-9377-556d8ed97c3e",
   "metadata": {},
   "outputs": [],
   "source": [
    "df.sort_values(by=['year'],inplace=True)"
   ]
  },
  {
   "cell_type": "code",
   "execution_count": 10,
   "id": "d3402c96-f7a6-4a37-aca2-c8d58d004e52",
   "metadata": {},
   "outputs": [
    {
     "data": {
      "text/html": [
       "<div>\n",
       "<style scoped>\n",
       "    .dataframe tbody tr th:only-of-type {\n",
       "        vertical-align: middle;\n",
       "    }\n",
       "\n",
       "    .dataframe tbody tr th {\n",
       "        vertical-align: top;\n",
       "    }\n",
       "\n",
       "    .dataframe thead th {\n",
       "        text-align: right;\n",
       "    }\n",
       "</style>\n",
       "<table border=\"1\" class=\"dataframe\">\n",
       "  <thead>\n",
       "    <tr style=\"text-align: right;\">\n",
       "      <th></th>\n",
       "      <th>name</th>\n",
       "      <th>id</th>\n",
       "      <th>nametype</th>\n",
       "      <th>recclass</th>\n",
       "      <th>mass</th>\n",
       "      <th>fall</th>\n",
       "      <th>year</th>\n",
       "      <th>reclat</th>\n",
       "      <th>reclong</th>\n",
       "      <th>GeoLocation</th>\n",
       "    </tr>\n",
       "  </thead>\n",
       "  <tbody>\n",
       "    <tr>\n",
       "      <th>16356</th>\n",
       "      <td>Havana</td>\n",
       "      <td>11857</td>\n",
       "      <td>Valid</td>\n",
       "      <td>Iron, IAB complex</td>\n",
       "      <td>NaN</td>\n",
       "      <td>Found</td>\n",
       "      <td>301</td>\n",
       "      <td>40.33333</td>\n",
       "      <td>-90.05000</td>\n",
       "      <td>(40.333330, -90.050000)</td>\n",
       "    </tr>\n",
       "    <tr>\n",
       "      <th>38301</th>\n",
       "      <td>Wietrzno-Bobrka</td>\n",
       "      <td>24259</td>\n",
       "      <td>Valid</td>\n",
       "      <td>Iron</td>\n",
       "      <td>376.0</td>\n",
       "      <td>Found</td>\n",
       "      <td>601</td>\n",
       "      <td>49.41667</td>\n",
       "      <td>21.70000</td>\n",
       "      <td>(49.416670, 21.700000)</td>\n",
       "    </tr>\n",
       "    <tr>\n",
       "      <th>703</th>\n",
       "      <td>Nogata</td>\n",
       "      <td>16988</td>\n",
       "      <td>Valid</td>\n",
       "      <td>L6</td>\n",
       "      <td>472.0</td>\n",
       "      <td>Fell</td>\n",
       "      <td>860</td>\n",
       "      <td>33.72500</td>\n",
       "      <td>130.75000</td>\n",
       "      <td>(33.725000, 130.750000)</td>\n",
       "    </tr>\n",
       "    <tr>\n",
       "      <th>678</th>\n",
       "      <td>Narni</td>\n",
       "      <td>16914</td>\n",
       "      <td>Valid</td>\n",
       "      <td>Stone-uncl</td>\n",
       "      <td>NaN</td>\n",
       "      <td>Fell</td>\n",
       "      <td>920</td>\n",
       "      <td>42.51667</td>\n",
       "      <td>12.51667</td>\n",
       "      <td>(42.516670, 12.516670)</td>\n",
       "    </tr>\n",
       "    <tr>\n",
       "      <th>278</th>\n",
       "      <td>Elbogen</td>\n",
       "      <td>7823</td>\n",
       "      <td>Valid</td>\n",
       "      <td>Iron, IID</td>\n",
       "      <td>107000.0</td>\n",
       "      <td>Fell</td>\n",
       "      <td>1399</td>\n",
       "      <td>50.18333</td>\n",
       "      <td>12.73333</td>\n",
       "      <td>(50.183330, 12.733330)</td>\n",
       "    </tr>\n",
       "  </tbody>\n",
       "</table>\n",
       "</div>"
      ],
      "text/plain": [
       "                  name     id nametype           recclass      mass   fall  \\\n",
       "16356           Havana  11857    Valid  Iron, IAB complex       NaN  Found   \n",
       "38301  Wietrzno-Bobrka  24259    Valid               Iron     376.0  Found   \n",
       "703             Nogata  16988    Valid                 L6     472.0   Fell   \n",
       "678              Narni  16914    Valid         Stone-uncl       NaN   Fell   \n",
       "278            Elbogen   7823    Valid          Iron, IID  107000.0   Fell   \n",
       "\n",
       "       year    reclat    reclong              GeoLocation  \n",
       "16356   301  40.33333  -90.05000  (40.333330, -90.050000)  \n",
       "38301   601  49.41667   21.70000   (49.416670, 21.700000)  \n",
       "703     860  33.72500  130.75000  (33.725000, 130.750000)  \n",
       "678     920  42.51667   12.51667   (42.516670, 12.516670)  \n",
       "278    1399  50.18333   12.73333   (50.183330, 12.733330)  "
      ]
     },
     "execution_count": 10,
     "metadata": {},
     "output_type": "execute_result"
    }
   ],
   "source": [
    "df.head()"
   ]
  },
  {
   "cell_type": "code",
   "execution_count": 11,
   "id": "5380f139-2188-45a2-aef2-8918bd156942",
   "metadata": {},
   "outputs": [
    {
     "data": {
      "text/html": [
       "<div>\n",
       "<style scoped>\n",
       "    .dataframe tbody tr th:only-of-type {\n",
       "        vertical-align: middle;\n",
       "    }\n",
       "\n",
       "    .dataframe tbody tr th {\n",
       "        vertical-align: top;\n",
       "    }\n",
       "\n",
       "    .dataframe thead th {\n",
       "        text-align: right;\n",
       "    }\n",
       "</style>\n",
       "<table border=\"1\" class=\"dataframe\">\n",
       "  <thead>\n",
       "    <tr style=\"text-align: right;\">\n",
       "      <th></th>\n",
       "      <th>name</th>\n",
       "      <th>id</th>\n",
       "      <th>nametype</th>\n",
       "      <th>recclass</th>\n",
       "      <th>mass</th>\n",
       "      <th>fall</th>\n",
       "      <th>year</th>\n",
       "      <th>reclat</th>\n",
       "      <th>reclong</th>\n",
       "      <th>GeoLocation</th>\n",
       "    </tr>\n",
       "  </thead>\n",
       "  <tbody>\n",
       "    <tr>\n",
       "      <th>30679</th>\n",
       "      <td>Northwest Africa 7701</td>\n",
       "      <td>57150</td>\n",
       "      <td>Valid</td>\n",
       "      <td>CK6</td>\n",
       "      <td>55.0</td>\n",
       "      <td>Found</td>\n",
       "      <td>2101</td>\n",
       "      <td>0.0</td>\n",
       "      <td>0.00000</td>\n",
       "      <td>(0.000000, 0.000000)</td>\n",
       "    </tr>\n",
       "    <tr>\n",
       "      <th>38188</th>\n",
       "      <td>Ur</td>\n",
       "      <td>24125</td>\n",
       "      <td>Valid</td>\n",
       "      <td>Iron</td>\n",
       "      <td>NaN</td>\n",
       "      <td>Found</td>\n",
       "      <td>2501</td>\n",
       "      <td>30.9</td>\n",
       "      <td>46.01667</td>\n",
       "      <td>(30.900000, 46.016670)</td>\n",
       "    </tr>\n",
       "  </tbody>\n",
       "</table>\n",
       "</div>"
      ],
      "text/plain": [
       "                        name     id nametype recclass  mass   fall  year  \\\n",
       "30679  Northwest Africa 7701  57150    Valid      CK6  55.0  Found  2101   \n",
       "38188                     Ur  24125    Valid     Iron   NaN  Found  2501   \n",
       "\n",
       "       reclat   reclong             GeoLocation  \n",
       "30679     0.0   0.00000    (0.000000, 0.000000)  \n",
       "38188    30.9  46.01667  (30.900000, 46.016670)  "
      ]
     },
     "execution_count": 11,
     "metadata": {},
     "output_type": "execute_result"
    }
   ],
   "source": [
    "df[df['year']>2016]"
   ]
  },
  {
   "cell_type": "code",
   "execution_count": 13,
   "id": "f277f008-a1c8-4ab7-93ae-c6e48c0c245d",
   "metadata": {},
   "outputs": [],
   "source": [
    "df.drop(df[df['year']>2016].index, inplace=True)"
   ]
  },
  {
   "cell_type": "markdown",
   "id": "3b0b9bc7-153e-4e58-a8e8-1ff198d3088e",
   "metadata": {},
   "source": [
    "### Análise de nulos"
   ]
  },
  {
   "cell_type": "code",
   "execution_count": 15,
   "id": "b5434ae0-3a3d-45ce-b952-ccc488f06c1d",
   "metadata": {},
   "outputs": [
    {
     "data": {
      "text/plain": [
       "name           False\n",
       "id             False\n",
       "nametype       False\n",
       "recclass       False\n",
       "mass            True\n",
       "fall           False\n",
       "year            True\n",
       "reclat          True\n",
       "reclong         True\n",
       "GeoLocation     True\n",
       "dtype: bool"
      ]
     },
     "execution_count": 15,
     "metadata": {},
     "output_type": "execute_result"
    }
   ],
   "source": [
    "df.isnull().any()"
   ]
  },
  {
   "cell_type": "code",
   "execution_count": 16,
   "id": "e649a297-7f87-4064-92b0-95c042e3fc6a",
   "metadata": {},
   "outputs": [
    {
     "data": {
      "text/plain": [
       "name              0\n",
       "id                0\n",
       "nametype          0\n",
       "recclass          0\n",
       "mass            130\n",
       "fall              0\n",
       "year            288\n",
       "reclat         7315\n",
       "reclong        7315\n",
       "GeoLocation    7315\n",
       "dtype: int64"
      ]
     },
     "execution_count": 16,
     "metadata": {},
     "output_type": "execute_result"
    }
   ],
   "source": [
    "df.isnull().sum()"
   ]
  },
  {
   "cell_type": "code",
   "execution_count": 17,
   "id": "724cdbdb-33ea-4c62-a927-f58df64176fc",
   "metadata": {},
   "outputs": [
    {
     "data": {
      "text/plain": [
       "name           45714\n",
       "id             45714\n",
       "nametype       45714\n",
       "recclass       45714\n",
       "mass           45584\n",
       "fall           45714\n",
       "year           45426\n",
       "reclat         38399\n",
       "reclong        38399\n",
       "GeoLocation    38399\n",
       "dtype: int64"
      ]
     },
     "execution_count": 17,
     "metadata": {},
     "output_type": "execute_result"
    }
   ],
   "source": [
    "df.count()"
   ]
  },
  {
   "cell_type": "code",
   "execution_count": 19,
   "id": "dd4bc54d-1279-425d-b673-c595db252d55",
   "metadata": {},
   "outputs": [],
   "source": [
    "df.dropna(inplace=True)"
   ]
  },
  {
   "cell_type": "code",
   "execution_count": 20,
   "id": "1da0bae8-25da-471c-b675-541884f84f77",
   "metadata": {},
   "outputs": [
    {
     "data": {
      "text/plain": [
       "name           0\n",
       "id             0\n",
       "nametype       0\n",
       "recclass       0\n",
       "mass           0\n",
       "fall           0\n",
       "year           0\n",
       "reclat         0\n",
       "reclong        0\n",
       "GeoLocation    0\n",
       "dtype: int64"
      ]
     },
     "execution_count": 20,
     "metadata": {},
     "output_type": "execute_result"
    }
   ],
   "source": [
    "df.isnull().sum()"
   ]
  },
  {
   "cell_type": "markdown",
   "id": "6ecad716-d059-4e01-aaeb-c9b4ca1038e9",
   "metadata": {},
   "source": [
    "### Análise do atributo \"mass\""
   ]
  },
  {
   "cell_type": "code",
   "execution_count": 22,
   "id": "ea6a4cf4-82e3-4d60-9044-86d14c290be3",
   "metadata": {},
   "outputs": [
    {
     "data": {
      "text/plain": [
       "name           19\n",
       "id             19\n",
       "nametype       19\n",
       "recclass       19\n",
       "mass           19\n",
       "fall           19\n",
       "year           19\n",
       "reclat         19\n",
       "reclong        19\n",
       "GeoLocation    19\n",
       "dtype: int64"
      ]
     },
     "execution_count": 22,
     "metadata": {},
     "output_type": "execute_result"
    }
   ],
   "source": [
    "df[df['mass']==0].count()"
   ]
  },
  {
   "cell_type": "code",
   "execution_count": 23,
   "id": "472581e3-8049-4a06-804c-fb683e3c3404",
   "metadata": {},
   "outputs": [],
   "source": [
    "df.drop(df[df['mass']==0].index, inplace=True)"
   ]
  },
  {
   "cell_type": "code",
   "execution_count": 25,
   "id": "68f29d35-8510-4848-bf00-6ab28f4f52d2",
   "metadata": {},
   "outputs": [
    {
     "data": {
      "text/plain": [
       "name           0\n",
       "id             0\n",
       "nametype       0\n",
       "recclass       0\n",
       "mass           0\n",
       "fall           0\n",
       "year           0\n",
       "reclat         0\n",
       "reclong        0\n",
       "GeoLocation    0\n",
       "dtype: int64"
      ]
     },
     "execution_count": 25,
     "metadata": {},
     "output_type": "execute_result"
    }
   ],
   "source": [
    "df[df['mass']==0].count()"
   ]
  },
  {
   "cell_type": "markdown",
   "id": "eca63462-df5f-4689-afe5-0348424654c4",
   "metadata": {},
   "source": [
    "### Análise das coordenadas \"GeoLocation\""
   ]
  },
  {
   "cell_type": "code",
   "execution_count": 27,
   "id": "5811e275-1618-4c81-8cc4-753a88440fd6",
   "metadata": {},
   "outputs": [
    {
     "name": "stdout",
     "output_type": "stream",
     "text": [
      "name           6184\n",
      "id             6184\n",
      "nametype       6184\n",
      "recclass       6184\n",
      "mass           6184\n",
      "fall           6184\n",
      "year           6184\n",
      "reclat         6184\n",
      "reclong        6184\n",
      "GeoLocation    6184\n",
      "dtype: int64\n"
     ]
    },
    {
     "data": {
      "text/html": [
       "<div>\n",
       "<style scoped>\n",
       "    .dataframe tbody tr th:only-of-type {\n",
       "        vertical-align: middle;\n",
       "    }\n",
       "\n",
       "    .dataframe tbody tr th {\n",
       "        vertical-align: top;\n",
       "    }\n",
       "\n",
       "    .dataframe thead th {\n",
       "        text-align: right;\n",
       "    }\n",
       "</style>\n",
       "<table border=\"1\" class=\"dataframe\">\n",
       "  <thead>\n",
       "    <tr style=\"text-align: right;\">\n",
       "      <th></th>\n",
       "      <th>name</th>\n",
       "      <th>id</th>\n",
       "      <th>nametype</th>\n",
       "      <th>recclass</th>\n",
       "      <th>mass</th>\n",
       "      <th>fall</th>\n",
       "      <th>year</th>\n",
       "      <th>reclat</th>\n",
       "      <th>reclong</th>\n",
       "      <th>GeoLocation</th>\n",
       "    </tr>\n",
       "  </thead>\n",
       "  <tbody>\n",
       "    <tr>\n",
       "      <th>26374</th>\n",
       "      <td>New York</td>\n",
       "      <td>55760</td>\n",
       "      <td>Valid</td>\n",
       "      <td>Iron, IIIAB</td>\n",
       "      <td>2950.00</td>\n",
       "      <td>Found</td>\n",
       "      <td>1965</td>\n",
       "      <td>0.0</td>\n",
       "      <td>0.0</td>\n",
       "      <td>(0.000000, 0.000000)</td>\n",
       "    </tr>\n",
       "    <tr>\n",
       "      <th>44893</th>\n",
       "      <td>Yamato 983064</td>\n",
       "      <td>39686</td>\n",
       "      <td>Valid</td>\n",
       "      <td>L6</td>\n",
       "      <td>40.94</td>\n",
       "      <td>Found</td>\n",
       "      <td>1998</td>\n",
       "      <td>0.0</td>\n",
       "      <td>0.0</td>\n",
       "      <td>(0.000000, 0.000000)</td>\n",
       "    </tr>\n",
       "    <tr>\n",
       "      <th>44892</th>\n",
       "      <td>Yamato 983063</td>\n",
       "      <td>39685</td>\n",
       "      <td>Valid</td>\n",
       "      <td>LL3</td>\n",
       "      <td>3.38</td>\n",
       "      <td>Found</td>\n",
       "      <td>1998</td>\n",
       "      <td>0.0</td>\n",
       "      <td>0.0</td>\n",
       "      <td>(0.000000, 0.000000)</td>\n",
       "    </tr>\n",
       "    <tr>\n",
       "      <th>44891</th>\n",
       "      <td>Yamato 983056</td>\n",
       "      <td>39678</td>\n",
       "      <td>Valid</td>\n",
       "      <td>H5</td>\n",
       "      <td>362.40</td>\n",
       "      <td>Found</td>\n",
       "      <td>1998</td>\n",
       "      <td>0.0</td>\n",
       "      <td>0.0</td>\n",
       "      <td>(0.000000, 0.000000)</td>\n",
       "    </tr>\n",
       "    <tr>\n",
       "      <th>45095</th>\n",
       "      <td>Yamato 983366</td>\n",
       "      <td>39988</td>\n",
       "      <td>Valid</td>\n",
       "      <td>Eucrite-unbr</td>\n",
       "      <td>138.90</td>\n",
       "      <td>Found</td>\n",
       "      <td>1998</td>\n",
       "      <td>0.0</td>\n",
       "      <td>0.0</td>\n",
       "      <td>(0.000000, 0.000000)</td>\n",
       "    </tr>\n",
       "    <tr>\n",
       "      <th>...</th>\n",
       "      <td>...</td>\n",
       "      <td>...</td>\n",
       "      <td>...</td>\n",
       "      <td>...</td>\n",
       "      <td>...</td>\n",
       "      <td>...</td>\n",
       "      <td>...</td>\n",
       "      <td>...</td>\n",
       "      <td>...</td>\n",
       "      <td>...</td>\n",
       "    </tr>\n",
       "    <tr>\n",
       "      <th>30773</th>\n",
       "      <td>Northwest Africa 7857</td>\n",
       "      <td>57422</td>\n",
       "      <td>Valid</td>\n",
       "      <td>LL6</td>\n",
       "      <td>246.00</td>\n",
       "      <td>Found</td>\n",
       "      <td>2013</td>\n",
       "      <td>0.0</td>\n",
       "      <td>0.0</td>\n",
       "      <td>(0.000000, 0.000000)</td>\n",
       "    </tr>\n",
       "    <tr>\n",
       "      <th>30774</th>\n",
       "      <td>Northwest Africa 7858</td>\n",
       "      <td>57423</td>\n",
       "      <td>Valid</td>\n",
       "      <td>H4</td>\n",
       "      <td>459.00</td>\n",
       "      <td>Found</td>\n",
       "      <td>2013</td>\n",
       "      <td>0.0</td>\n",
       "      <td>0.0</td>\n",
       "      <td>(0.000000, 0.000000)</td>\n",
       "    </tr>\n",
       "    <tr>\n",
       "      <th>30776</th>\n",
       "      <td>Northwest Africa 7861</td>\n",
       "      <td>57425</td>\n",
       "      <td>Valid</td>\n",
       "      <td>L5</td>\n",
       "      <td>611.00</td>\n",
       "      <td>Found</td>\n",
       "      <td>2013</td>\n",
       "      <td>0.0</td>\n",
       "      <td>0.0</td>\n",
       "      <td>(0.000000, 0.000000)</td>\n",
       "    </tr>\n",
       "    <tr>\n",
       "      <th>30777</th>\n",
       "      <td>Northwest Africa 7862</td>\n",
       "      <td>57426</td>\n",
       "      <td>Valid</td>\n",
       "      <td>L4/5</td>\n",
       "      <td>317.00</td>\n",
       "      <td>Found</td>\n",
       "      <td>2013</td>\n",
       "      <td>0.0</td>\n",
       "      <td>0.0</td>\n",
       "      <td>(0.000000, 0.000000)</td>\n",
       "    </tr>\n",
       "    <tr>\n",
       "      <th>30759</th>\n",
       "      <td>Northwest Africa 7812</td>\n",
       "      <td>57258</td>\n",
       "      <td>Valid</td>\n",
       "      <td>Angrite</td>\n",
       "      <td>46.20</td>\n",
       "      <td>Found</td>\n",
       "      <td>2013</td>\n",
       "      <td>0.0</td>\n",
       "      <td>0.0</td>\n",
       "      <td>(0.000000, 0.000000)</td>\n",
       "    </tr>\n",
       "  </tbody>\n",
       "</table>\n",
       "<p>6184 rows × 10 columns</p>\n",
       "</div>"
      ],
      "text/plain": [
       "                        name     id nametype      recclass     mass   fall  \\\n",
       "26374               New York  55760    Valid   Iron, IIIAB  2950.00  Found   \n",
       "44893          Yamato 983064  39686    Valid            L6    40.94  Found   \n",
       "44892          Yamato 983063  39685    Valid           LL3     3.38  Found   \n",
       "44891          Yamato 983056  39678    Valid            H5   362.40  Found   \n",
       "45095          Yamato 983366  39988    Valid  Eucrite-unbr   138.90  Found   \n",
       "...                      ...    ...      ...           ...      ...    ...   \n",
       "30773  Northwest Africa 7857  57422    Valid           LL6   246.00  Found   \n",
       "30774  Northwest Africa 7858  57423    Valid            H4   459.00  Found   \n",
       "30776  Northwest Africa 7861  57425    Valid            L5   611.00  Found   \n",
       "30777  Northwest Africa 7862  57426    Valid          L4/5   317.00  Found   \n",
       "30759  Northwest Africa 7812  57258    Valid       Angrite    46.20  Found   \n",
       "\n",
       "       year  reclat  reclong           GeoLocation  \n",
       "26374  1965     0.0      0.0  (0.000000, 0.000000)  \n",
       "44893  1998     0.0      0.0  (0.000000, 0.000000)  \n",
       "44892  1998     0.0      0.0  (0.000000, 0.000000)  \n",
       "44891  1998     0.0      0.0  (0.000000, 0.000000)  \n",
       "45095  1998     0.0      0.0  (0.000000, 0.000000)  \n",
       "...     ...     ...      ...                   ...  \n",
       "30773  2013     0.0      0.0  (0.000000, 0.000000)  \n",
       "30774  2013     0.0      0.0  (0.000000, 0.000000)  \n",
       "30776  2013     0.0      0.0  (0.000000, 0.000000)  \n",
       "30777  2013     0.0      0.0  (0.000000, 0.000000)  \n",
       "30759  2013     0.0      0.0  (0.000000, 0.000000)  \n",
       "\n",
       "[6184 rows x 10 columns]"
      ]
     },
     "execution_count": 27,
     "metadata": {},
     "output_type": "execute_result"
    }
   ],
   "source": [
    "print(df[df['GeoLocation']=='(0.000000, 0.000000)'].count())\n",
    "df[df['GeoLocation']=='(0.000000, 0.000000)']"
   ]
  },
  {
   "cell_type": "code",
   "execution_count": 28,
   "id": "f4c27e2f-3f14-48d3-ae89-4a4215b77879",
   "metadata": {},
   "outputs": [],
   "source": [
    "df.drop(df[df['GeoLocation']=='(0.000000, 0.000000)'].index, inplace=True)"
   ]
  },
  {
   "cell_type": "code",
   "execution_count": 31,
   "id": "ff42029e-35fb-431d-8cfd-505bb49e6884",
   "metadata": {},
   "outputs": [
    {
     "name": "stdout",
     "output_type": "stream",
     "text": [
      "name           0\n",
      "id             0\n",
      "nametype       0\n",
      "recclass       0\n",
      "mass           0\n",
      "fall           0\n",
      "year           0\n",
      "reclat         0\n",
      "reclong        0\n",
      "GeoLocation    0\n",
      "dtype: int64\n"
     ]
    },
    {
     "data": {
      "text/html": [
       "<div>\n",
       "<style scoped>\n",
       "    .dataframe tbody tr th:only-of-type {\n",
       "        vertical-align: middle;\n",
       "    }\n",
       "\n",
       "    .dataframe tbody tr th {\n",
       "        vertical-align: top;\n",
       "    }\n",
       "\n",
       "    .dataframe thead th {\n",
       "        text-align: right;\n",
       "    }\n",
       "</style>\n",
       "<table border=\"1\" class=\"dataframe\">\n",
       "  <thead>\n",
       "    <tr style=\"text-align: right;\">\n",
       "      <th></th>\n",
       "      <th>name</th>\n",
       "      <th>id</th>\n",
       "      <th>nametype</th>\n",
       "      <th>recclass</th>\n",
       "      <th>mass</th>\n",
       "      <th>fall</th>\n",
       "      <th>year</th>\n",
       "      <th>reclat</th>\n",
       "      <th>reclong</th>\n",
       "      <th>GeoLocation</th>\n",
       "    </tr>\n",
       "  </thead>\n",
       "  <tbody>\n",
       "  </tbody>\n",
       "</table>\n",
       "</div>"
      ],
      "text/plain": [
       "Empty DataFrame\n",
       "Columns: [name, id, nametype, recclass, mass, fall, year, reclat, reclong, GeoLocation]\n",
       "Index: []"
      ]
     },
     "execution_count": 31,
     "metadata": {},
     "output_type": "execute_result"
    }
   ],
   "source": [
    "print(df[df['GeoLocation']=='(0.000000, 0.000000)'].count())\n",
    "df[df['GeoLocation']=='(0.000000, 0.000000)']"
   ]
  },
  {
   "cell_type": "markdown",
   "id": "d68c9023-0c98-4425-a4e2-e87c330ae876",
   "metadata": {},
   "source": [
    "### Reajutando os indices"
   ]
  },
  {
   "cell_type": "code",
   "execution_count": 32,
   "id": "a11dc37e-20ae-4560-89b1-bd8e64af495b",
   "metadata": {},
   "outputs": [],
   "source": [
    "df.reset_index(inplace=True)"
   ]
  },
  {
   "cell_type": "code",
   "execution_count": 34,
   "id": "cd153d64-5471-4836-a1fb-bbf0cab9fd0c",
   "metadata": {},
   "outputs": [
    {
     "data": {
      "text/plain": [
       "RangeIndex(start=0, stop=31912, step=1)"
      ]
     },
     "execution_count": 34,
     "metadata": {},
     "output_type": "execute_result"
    }
   ],
   "source": [
    "df.index"
   ]
  },
  {
   "cell_type": "code",
   "execution_count": 36,
   "id": "7c2b5ae2-6e43-4a16-8a6e-bd8f40da76b7",
   "metadata": {},
   "outputs": [],
   "source": [
    "del df['index']"
   ]
  },
  {
   "cell_type": "code",
   "execution_count": 37,
   "id": "1a91aa86-c3c1-4526-952b-6fd2419e8303",
   "metadata": {},
   "outputs": [
    {
     "data": {
      "text/html": [
       "<div>\n",
       "<style scoped>\n",
       "    .dataframe tbody tr th:only-of-type {\n",
       "        vertical-align: middle;\n",
       "    }\n",
       "\n",
       "    .dataframe tbody tr th {\n",
       "        vertical-align: top;\n",
       "    }\n",
       "\n",
       "    .dataframe thead th {\n",
       "        text-align: right;\n",
       "    }\n",
       "</style>\n",
       "<table border=\"1\" class=\"dataframe\">\n",
       "  <thead>\n",
       "    <tr style=\"text-align: right;\">\n",
       "      <th></th>\n",
       "      <th>name</th>\n",
       "      <th>id</th>\n",
       "      <th>nametype</th>\n",
       "      <th>recclass</th>\n",
       "      <th>mass</th>\n",
       "      <th>fall</th>\n",
       "      <th>year</th>\n",
       "      <th>reclat</th>\n",
       "      <th>reclong</th>\n",
       "      <th>GeoLocation</th>\n",
       "    </tr>\n",
       "  </thead>\n",
       "  <tbody>\n",
       "    <tr>\n",
       "      <th>0</th>\n",
       "      <td>Wietrzno-Bobrka</td>\n",
       "      <td>24259</td>\n",
       "      <td>Valid</td>\n",
       "      <td>Iron</td>\n",
       "      <td>376.0</td>\n",
       "      <td>Found</td>\n",
       "      <td>601</td>\n",
       "      <td>49.41667</td>\n",
       "      <td>21.70000</td>\n",
       "      <td>(49.416670, 21.700000)</td>\n",
       "    </tr>\n",
       "    <tr>\n",
       "      <th>1</th>\n",
       "      <td>Nogata</td>\n",
       "      <td>16988</td>\n",
       "      <td>Valid</td>\n",
       "      <td>L6</td>\n",
       "      <td>472.0</td>\n",
       "      <td>Fell</td>\n",
       "      <td>860</td>\n",
       "      <td>33.72500</td>\n",
       "      <td>130.75000</td>\n",
       "      <td>(33.725000, 130.750000)</td>\n",
       "    </tr>\n",
       "    <tr>\n",
       "      <th>2</th>\n",
       "      <td>Elbogen</td>\n",
       "      <td>7823</td>\n",
       "      <td>Valid</td>\n",
       "      <td>Iron, IID</td>\n",
       "      <td>107000.0</td>\n",
       "      <td>Fell</td>\n",
       "      <td>1399</td>\n",
       "      <td>50.18333</td>\n",
       "      <td>12.73333</td>\n",
       "      <td>(50.183330, 12.733330)</td>\n",
       "    </tr>\n",
       "    <tr>\n",
       "      <th>3</th>\n",
       "      <td>Rivolta de Bassi</td>\n",
       "      <td>22614</td>\n",
       "      <td>Valid</td>\n",
       "      <td>Stone-uncl</td>\n",
       "      <td>103.3</td>\n",
       "      <td>Fell</td>\n",
       "      <td>1490</td>\n",
       "      <td>45.48333</td>\n",
       "      <td>9.51667</td>\n",
       "      <td>(45.483330, 9.516670)</td>\n",
       "    </tr>\n",
       "    <tr>\n",
       "      <th>4</th>\n",
       "      <td>Ensisheim</td>\n",
       "      <td>10039</td>\n",
       "      <td>Valid</td>\n",
       "      <td>LL6</td>\n",
       "      <td>127000.0</td>\n",
       "      <td>Fell</td>\n",
       "      <td>1491</td>\n",
       "      <td>47.86667</td>\n",
       "      <td>7.35000</td>\n",
       "      <td>(47.866670, 7.350000)</td>\n",
       "    </tr>\n",
       "  </tbody>\n",
       "</table>\n",
       "</div>"
      ],
      "text/plain": [
       "               name     id nametype    recclass      mass   fall  year  \\\n",
       "0   Wietrzno-Bobrka  24259    Valid        Iron     376.0  Found   601   \n",
       "1            Nogata  16988    Valid          L6     472.0   Fell   860   \n",
       "2           Elbogen   7823    Valid   Iron, IID  107000.0   Fell  1399   \n",
       "3  Rivolta de Bassi  22614    Valid  Stone-uncl     103.3   Fell  1490   \n",
       "4         Ensisheim  10039    Valid         LL6  127000.0   Fell  1491   \n",
       "\n",
       "     reclat    reclong              GeoLocation  \n",
       "0  49.41667   21.70000   (49.416670, 21.700000)  \n",
       "1  33.72500  130.75000  (33.725000, 130.750000)  \n",
       "2  50.18333   12.73333   (50.183330, 12.733330)  \n",
       "3  45.48333    9.51667    (45.483330, 9.516670)  \n",
       "4  47.86667    7.35000    (47.866670, 7.350000)  "
      ]
     },
     "execution_count": 37,
     "metadata": {},
     "output_type": "execute_result"
    }
   ],
   "source": [
    "df.head()"
   ]
  },
  {
   "cell_type": "markdown",
   "id": "9937d514-4df4-40cb-9f2f-874f17512615",
   "metadata": {},
   "source": [
    "### Criação da nova base"
   ]
  },
  {
   "cell_type": "code",
   "execution_count": 39,
   "id": "f031e74e-fcb3-4cbf-859d-2d459db2a21b",
   "metadata": {},
   "outputs": [],
   "source": [
    "df.to_csv('meteorite-landings-v2.csv')"
   ]
  },
  {
   "cell_type": "code",
   "execution_count": null,
   "id": "78e3b8b6-96f1-4943-b5bb-40568708da54",
   "metadata": {},
   "outputs": [],
   "source": []
  }
 ],
 "metadata": {
  "kernelspec": {
   "display_name": "Python 3",
   "language": "python",
   "name": "python3"
  },
  "language_info": {
   "codemirror_mode": {
    "name": "ipython",
    "version": 3
   },
   "file_extension": ".py",
   "mimetype": "text/x-python",
   "name": "python",
   "nbconvert_exporter": "python",
   "pygments_lexer": "ipython3",
   "version": "3.8.8"
  }
 },
 "nbformat": 4,
 "nbformat_minor": 5
}
